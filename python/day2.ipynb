{
 "cells": [
  {
   "cell_type": "code",
   "execution_count": 2,
   "metadata": {},
   "outputs": [
    {
     "name": "stdout",
     "output_type": "stream",
     "text": [
      "  Month   \"1958\"   \"1959\"   \"1960\"\n",
      "0   JAN      340      360      417\n",
      "1   FEB      318      342      391\n",
      "2   MAR      362      406      419\n",
      "3   APR      348      396      461\n",
      "4   MAY      363      420      472\n"
     ]
    }
   ],
   "source": [
    "import pandas as pd\n",
    "url = \"https://people.sc.fsu.edu/~jburkardt/data/csv/airtravel.csv\"\n",
    "data = pd.read_csv(url)\n",
    "print(data.head())\n"
   ]
  }
 ],
 "metadata": {
  "kernelspec": {
   "display_name": "base",
   "language": "python",
   "name": "python3"
  },
  "language_info": {
   "codemirror_mode": {
    "name": "ipython",
    "version": 3
   },
   "file_extension": ".py",
   "mimetype": "text/x-python",
   "name": "python",
   "nbconvert_exporter": "python",
   "pygments_lexer": "ipython3",
   "version": "3.11.5"
  }
 },
 "nbformat": 4,
 "nbformat_minor": 2
}
